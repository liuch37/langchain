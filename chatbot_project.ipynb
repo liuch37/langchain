{
 "cells": [
  {
   "cell_type": "markdown",
   "metadata": {},
   "source": [
    "## This is an AI chatbot to interact with you based on Nestle's HR policies.\n",
    "\n",
    "Step 1: Import necessary libraries.\n",
    "\n",
    "Step 2: Download Nestle's HR PDF file.\n",
    "\n",
    "Step 3: Create vector representations for text chunks using Chroma dB and any embeddings.\n",
    "\n",
    "Step 4: Build a system to retreive answers from text chunks.\n",
    "\n",
    "Step 5: Create a prompt and feed it to any LLM to build a QA chatbot.\n",
    "\n",
    "Step 6: Use Gradio to build an UI for the chatbot."
   ]
  },
  {
   "cell_type": "code",
   "execution_count": null,
   "metadata": {},
   "outputs": [],
   "source": [
    "# Step 1\n",
    "import requests\n",
    "import gradio as gr\n",
    "\n",
    "from langchain_ollama import OllamaEmbeddings # download ollama model first using 'ollama pull llama3'\n",
    "from langchain_ollama.llms import OllamaLLM\n",
    "from langchain_community.document_loaders import PyPDFLoader\n",
    "from langchain.text_splitter import RecursiveCharacterTextSplitter\n",
    "from langchain_chroma import Chroma\n",
    "from langchain.chains import RetrievalQA\n",
    "from langchain_core.prompts import ChatPromptTemplate"
   ]
  },
  {
   "cell_type": "code",
   "execution_count": 18,
   "metadata": {},
   "outputs": [],
   "source": [
    "# Step 2\n",
    "nestle_url = 'https://www.nestle.com/sites/default/files/asset-library/documents/jobs/humanresourcespolicy.pdf'\n",
    "filename = 'policy.pdf'\n",
    "chunk_size = 2000\n",
    "\n",
    "r = requests.get(nestle_url, stream=True)\n",
    "with open(filename, 'wb') as fd:\n",
    "    for chunk in r.iter_content(chunk_size):\n",
    "        fd.write(chunk)"
   ]
  },
  {
   "cell_type": "code",
   "execution_count": null,
   "metadata": {},
   "outputs": [],
   "source": [
    "# Step 3\n",
    "\n",
    "# load multiple files in a folder\n",
    "loaders = [PyPDFLoader(filename)]\n",
    "\n",
    "print(loaders)\n",
    "\n",
    "alldocument = []\n",
    "for loader in loaders:\n",
    "    print(\"Loading raw document...\", loader.file_path)\n",
    "    raw_documents = loader.load()\n",
    "    print(\"Splitting text...\")\n",
    "    text_splitter = RecursiveCharacterTextSplitter(chunk_size=1000)\n",
    "    doc = text_splitter.split_documents(raw_documents)\n",
    "    alldocument.extend(doc)\n",
    "\n",
    "print(\"The first document is:\", alldocument[0].page_content)\n",
    "print(\"Length of all documents is {}\".format(len(alldocument)))"
   ]
  },
  {
   "cell_type": "code",
   "execution_count": 43,
   "metadata": {},
   "outputs": [],
   "source": [
    "# Step 4\n",
    "# Setup database and LLM\n",
    "vectorstore = Chroma.from_documents(documents=alldocument, embedding=OllamaEmbeddings(model=\"llama3.1\"), persist_directory='./chromadb')\n",
    "retriever = vectorstore.as_retriever(search_type=\"similarity\", search_kwargs={\"k\": 30})\n",
    "llm = OllamaLLM(model=\"llama3.1\", temperature=0)    "
   ]
  },
  {
   "cell_type": "code",
   "execution_count": null,
   "metadata": {},
   "outputs": [],
   "source": [
    "# Step 5\n",
    "system_prompt = (\n",
    "        \"You are an virtual assistant for question-answering tasks. \"\n",
    "        \"Use the following pieces of retrieved context to answer \"\n",
    "        \"the question. If you don't know the answer, say that you \"\n",
    "        \"don't know. Use three sentences maximum and keep the \"\n",
    "        \"answer concise.\"\n",
    "        \"\\n\\n\"\n",
    "        \"{context}\"\n",
    "    )\n",
    "\n",
    "prompt = ChatPromptTemplate.from_messages(\n",
    "    [\n",
    "        (\"system\", system_prompt),\n",
    "        (\"human\", \"{query}\"),\n",
    "    ]\n",
    ")\n",
    "\n",
    "# RAG Pipeline\n",
    "rag_chain = RetrievalQA.from_chain_type(\n",
    "    llm=llm,\n",
    "    chain_type='stuff',\n",
    "    retriever=retriever,\n",
    "    verbose=False,\n",
    ")\n",
    "\n",
    "# Define an ask function\n",
    "def ask(query, history):    \n",
    "    response = rag_chain.invoke({'query': query})\n",
    "\n",
    "    return response['result']\n",
    "\n",
    "# Test\n",
    "print(ask(\"Tell me about the HR policy in one sentence\", None))"
   ]
  },
  {
   "cell_type": "markdown",
   "metadata": {},
   "source": []
  },
  {
   "cell_type": "code",
   "execution_count": null,
   "metadata": {},
   "outputs": [],
   "source": [
    "# Step 6\n",
    "\n",
    "gr.ChatInterface(\n",
    "    ask,\n",
    "    chatbot=gr.Chatbot(height=300),\n",
    "    textbox=gr.Textbox(placeholder=\"Ask me a question regarding Nestle's HR policy.\", container=False, scale=7),\n",
    "    title=\"HR Chatbot\",\n",
    "    description=\"Ask HR Chatbot any question regarding HR policy\",\n",
    "    theme=\"soft\",\n",
    "    examples=[\"Tell me about Nestle\", \"Summarize the most important HR policies\", \"What's the work life balance in Nestle?\"],\n",
    "    cache_examples=True,    \n",
    ").launch()"
   ]
  }
 ],
 "metadata": {
  "kernelspec": {
   "display_name": "langchain",
   "language": "python",
   "name": "python3"
  },
  "language_info": {
   "codemirror_mode": {
    "name": "ipython",
    "version": 3
   },
   "file_extension": ".py",
   "mimetype": "text/x-python",
   "name": "python",
   "nbconvert_exporter": "python",
   "pygments_lexer": "ipython3",
   "version": "3.10.14"
  }
 },
 "nbformat": 4,
 "nbformat_minor": 2
}
